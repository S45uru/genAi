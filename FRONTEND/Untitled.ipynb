{
 "cells": [
  {
   "cell_type": "code",
   "execution_count": 1,
   "id": "692d5762-77c3-4685-b188-94c2aa9c800a",
   "metadata": {},
   "outputs": [],
   "source": [
    "def extract_text_from_pdf(pdf_path):\n",
    "    try:\n",
    "        with open(pdf_path, \"rb\") as file:\n",
    "            reader = PyPDF2.PdfReader(file)\n",
    "            text = \"\"\n",
    "            for page in reader.pages:\n",
    "                text += page.extract_text()\n",
    "        return text\n",
    "    except Exception as e:\n",
    "        print(f\"Error reading PDF: {e}\")\n",
    "        return \"\""
   ]
  },
  {
   "cell_type": "code",
   "execution_count": 2,
   "id": "43672d10-e346-431d-8095-c3501eb37d8c",
   "metadata": {},
   "outputs": [
    {
     "ename": "ModuleNotFoundError",
     "evalue": "No module named 'PyPDF2'",
     "output_type": "error",
     "traceback": [
      "\u001b[1;31m---------------------------------------------------------------------------\u001b[0m",
      "\u001b[1;31mModuleNotFoundError\u001b[0m                       Traceback (most recent call last)",
      "Cell \u001b[1;32mIn[2], line 1\u001b[0m\n\u001b[1;32m----> 1\u001b[0m \u001b[38;5;28;01mimport\u001b[39;00m\u001b[38;5;250m \u001b[39m\u001b[38;5;21;01mPyPDF2\u001b[39;00m\n\u001b[0;32m      2\u001b[0m \u001b[38;5;28;01mfrom\u001b[39;00m\u001b[38;5;250m \u001b[39m\u001b[38;5;21;01mlangchain_groq\u001b[39;00m\u001b[38;5;250m \u001b[39m\u001b[38;5;28;01mimport\u001b[39;00m ChatGroq\n\u001b[0;32m      4\u001b[0m \u001b[38;5;66;03m# Initialize the ChatGroq instance\u001b[39;00m\n",
      "\u001b[1;31mModuleNotFoundError\u001b[0m: No module named 'PyPDF2'"
     ]
    }
   ],
   "source": [
    "import PyPDF2\n",
    "from langchain_groq import ChatGroq\n",
    "\n",
    "# Initialize the ChatGroq instance\n",
    "llm = ChatGroq(\n",
    "    model=\"mixtral-8x7b-32768\",\n",
    "    temperature=0.2,\n",
    "    groq_api_key=\"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\"\n",
    ")"
   ]
  },
  {
   "cell_type": "code",
   "execution_count": 3,
   "id": "23ad0b64-f1bd-47dc-a65b-601e22e59246",
   "metadata": {},
   "outputs": [
    {
     "name": "stdout",
     "output_type": "stream",
     "text": [
      "Collecting PyPDF2Note: you may need to restart the kernel to use updated packages.\n"
     ]
    },
    {
     "name": "stderr",
     "output_type": "stream",
     "text": [
      "\n",
      "[notice] A new release of pip is available: 23.2.1 -> 25.0\n",
      "[notice] To update, run: python.exe -m pip install --upgrade pip\n"
     ]
    },
    {
     "name": "stdout",
     "output_type": "stream",
     "text": [
      "\n",
      "  Obtaining dependency information for PyPDF2 from https://files.pythonhosted.org/packages/8e/5e/c86a5643653825d3c913719e788e41386bee415c2b87b4f955432f2de6b2/pypdf2-3.0.1-py3-none-any.whl.metadata\n",
      "  Downloading pypdf2-3.0.1-py3-none-any.whl.metadata (6.8 kB)\n",
      "Downloading pypdf2-3.0.1-py3-none-any.whl (232 kB)\n",
      "   ---------------------------------------- 0.0/232.6 kB ? eta -:--:--\n",
      "   ---------------------------------------- 0.0/232.6 kB ? eta -:--:--\n",
      "   ----- ---------------------------------- 30.7/232.6 kB 1.4 MB/s eta 0:00:01\n",
      "   ---------- ---------------------------- 61.4/232.6 kB 825.8 kB/s eta 0:00:01\n",
      "   ------------------- -------------------- 112.6/232.6 kB 1.1 MB/s eta 0:00:01\n",
      "   ----------------------------- ---------- 174.1/232.6 kB 1.2 MB/s eta 0:00:01\n",
      "   ---------------------------------------- 232.6/232.6 kB 1.2 MB/s eta 0:00:00\n",
      "Installing collected packages: PyPDF2\n",
      "Successfully installed PyPDF2-3.0.1\n"
     ]
    }
   ],
   "source": [
    "pip install PyPDF2"
   ]
  },
  {
   "cell_type": "code",
   "execution_count": null,
   "id": "15c50e98-be37-4045-b3f0-b7f759d1beb1",
   "metadata": {},
   "outputs": [
    {
     "name": "stdin",
     "output_type": "stream",
     "text": [
      "Ask your question (or type 'exit' to quit):  what is class\n"
     ]
    },
    {
     "name": "stdout",
     "output_type": "stream",
     "text": [
      "Response: A class in Python is a collection of objects that consists of class variables and class methods. It is a model that defines a set of properties and behaviors for a group of objects. Classes are created using the \"class\" keyword. They can contain attributes (variables that hold data) and methods (functions that perform specific tasks or logic). When an object is created from a class, the object inherits the properties and methods defined in the class. The \\_\\_init\\_\\_ method in a class is used to initialize the instance variables of the class. Class names generally start with a capital letter and cannot be a Python reserved keyword.\n"
     ]
    }
   ],
   "source": [
    "import PyPDF2\n",
    "from langchain_groq import ChatGroq\n",
    "\n",
    "# Initialize the ChatGroq instance\n",
    "llm = ChatGroq(\n",
    "    model=\"mixtral-8x7b-32768\",\n",
    "    temperature=0.2,\n",
    "    groq_api_key=\"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\"\n",
    ")\n",
    "def extract_text_from_pdf(pdf_path):\n",
    "    try:\n",
    "        with open(pdf_path, \"rb\") as file:\n",
    "            reader = PyPDF2.PdfReader(file)\n",
    "            text = \"\"\n",
    "            for page in reader.pages:\n",
    "                text += page.extract_text()\n",
    "        return text\n",
    "    except Exception as e:\n",
    "        print(f\"Error reading PDF: {e}\")\n",
    "        return \"\"\n",
    "def query_pdf_content(pdf_content, query):\n",
    "    prompt = f\"\"\"\n",
    "    You are a PDF content assistant. The following text is extracted from a PDF document:\n",
    "    ---\n",
    "    {pdf_content}\n",
    "    ---\n",
    "    Answer the user's query based on the above content. If the answer is not found in the text, reply with 'No information exists.'\n",
    "    \n",
    "    Query: {query}\n",
    "    \"\"\"\n",
    "    response = llm.invoke(prompt, max_tokens=150)\n",
    "    return response.content.strip()  # Accessing the content attribute and applying strip()\n",
    "pdf_path = \"01-Class.pdf\"  # Replace with your PDF file path\n",
    "pdf_content = extract_text_from_pdf(pdf_path)\n",
    "\n",
    "if pdf_content:\n",
    "    while True:\n",
    "        user_query = input(\"Ask your question (or type 'exit' to quit): \")\n",
    "        if user_query.lower() == \"exit\":\n",
    "            break\n",
    "        response = query_pdf_content(pdf_content, user_query)\n",
    "        print(\"Response:\", response)\n",
    "else:\n",
    "    print(\"Could not extract content from the PDF.\")\n"
   ]
  },
  {
   "cell_type": "code",
   "execution_count": null,
   "id": "29422fe9-0719-4423-8f03-e44492e435cf",
   "metadata": {},
   "outputs": [],
   "source": []
  }
 ],
 "metadata": {
  "kernelspec": {
   "display_name": "Python 3 (ipykernel)",
   "language": "python",
   "name": "python3"
  },
  "language_info": {
   "codemirror_mode": {
    "name": "ipython",
    "version": 3
   },
   "file_extension": ".py",
   "mimetype": "text/x-python",
   "name": "python",
   "nbconvert_exporter": "python",
   "pygments_lexer": "ipython3",
   "version": "3.11.5"
  }
 },
 "nbformat": 4,
 "nbformat_minor": 5
}
